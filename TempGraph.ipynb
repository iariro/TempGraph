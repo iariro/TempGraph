{
 "cells": [
  {
   "cell_type": "markdown",
   "metadata": {},
   "source": [
    "# おんどとり温度データグラフ\n",
    "## ファイル読み込み"
   ]
  },
  {
   "cell_type": "code",
   "execution_count": null,
   "metadata": {},
   "outputs": [],
   "source": [
    "import TempGraph\n",
    "\n",
    "df, days, months, weeks = TempGraph.readcsv()"
   ]
  },
  {
   "cell_type": "markdown",
   "metadata": {},
   "source": [
    "## ここ数日の１日の遷移"
   ]
  },
  {
   "cell_type": "code",
   "execution_count": null,
   "metadata": {
    "scrolled": false
   },
   "outputs": [],
   "source": [
    "import datetime\n",
    "import pandas\n",
    "import matplotlib.pyplot as plt\n",
    "from pylab import rcParams\n",
    "from statistics import mean\n",
    "\n",
    "today = datetime.date.today()\n",
    "df = pandas.DataFrame({dt: temp for dt, temp in days.items() if (today - dt).days < 10})\n",
    "rcParams['figure.figsize'] = 16,8\n",
    "df.plot(marker='.')\n",
    "plt.gca().patch.set_facecolor('lightgray')\n",
    "plt.grid(which='major', axis='y')\n",
    "plt.show()"
   ]
  },
  {
   "cell_type": "markdown",
   "metadata": {},
   "source": [
    "## 日毎の平均気温"
   ]
  },
  {
   "cell_type": "code",
   "execution_count": null,
   "metadata": {
    "scrolled": false
   },
   "outputs": [],
   "source": [
    "rcParams['figure.figsize'] = 16,6\n",
    "#stats = {'mean': mean, 'max': max, 'min': min}\n",
    "stats = {'mean': mean}\n",
    "df = pandas.DataFrame({key: [stat([temp for temp in days[dt] if temp]) for dt in days] for key, stat in stats.items()}, index=days.keys())\n",
    "df.plot.bar()\n",
    "plt.gca().patch.set_facecolor('lightgray')\n",
    "plt.ylim(10, 35)\n",
    "plt.grid(which='major', axis='y')\n",
    "plt.show()"
   ]
  },
  {
   "cell_type": "markdown",
   "metadata": {},
   "source": [
    "## 日毎の最高気温"
   ]
  },
  {
   "cell_type": "code",
   "execution_count": null,
   "metadata": {},
   "outputs": [],
   "source": [
    "rcParams['figure.figsize'] = 16,6\n",
    "#stats = {'mean': mean, 'max': max, 'min': min}\n",
    "stats = {'max': max}\n",
    "pandas.DataFrame({key: [stat([temp for temp in days[dt] if temp]) for dt in days] for key, stat in stats.items()}, index=days.keys()).plot.bar()\n",
    "plt.gca().patch.set_facecolor('lightgray')\n",
    "plt.ylim(15, 40)\n",
    "plt.grid(which='major', axis='y')\n",
    "plt.show()"
   ]
  },
  {
   "cell_type": "markdown",
   "metadata": {},
   "source": [
    "## 週ごと遷移"
   ]
  },
  {
   "cell_type": "code",
   "execution_count": null,
   "metadata": {},
   "outputs": [],
   "source": [
    "stats = {'mean': mean}\n",
    "df = pandas.DataFrame({key: [stat([temp for temp in weeks[dt] if temp]) for dt in weeks] for key, stat in stats.items()}, index=weeks.keys())\n",
    "rcParams['figure.figsize'] = 16,8\n",
    "df.plot.bar()\n",
    "plt.ylim(10, 35)\n",
    "plt.gca().patch.set_facecolor('lightgray')\n",
    "plt.grid(which='major', axis='y')\n",
    "plt.show()"
   ]
  },
  {
   "cell_type": "markdown",
   "metadata": {},
   "source": [
    "## 月ごと遷移"
   ]
  },
  {
   "cell_type": "code",
   "execution_count": null,
   "metadata": {},
   "outputs": [],
   "source": [
    "stats = {'mean': mean}\n",
    "df = pandas.DataFrame({key: [stat([temp for temp in months[dt] if temp]) for dt in months] for key, stat in stats.items()}, index=months.keys())\n",
    "rcParams['figure.figsize'] = 16,8\n",
    "df.plot.bar()\n",
    "plt.gca().patch.set_facecolor('lightgray')\n",
    "plt.ylim(10, 35)\n",
    "plt.grid(which='major', axis='y')\n",
    "plt.show()"
   ]
  }
 ],
 "metadata": {
  "kernelspec": {
   "display_name": "Python 3",
   "language": "python",
   "name": "python3"
  },
  "language_info": {
   "codemirror_mode": {
    "name": "ipython",
    "version": 3
   },
   "file_extension": ".py",
   "mimetype": "text/x-python",
   "name": "python",
   "nbconvert_exporter": "python",
   "pygments_lexer": "ipython3",
   "version": "3.6.7"
  }
 },
 "nbformat": 4,
 "nbformat_minor": 2
}
